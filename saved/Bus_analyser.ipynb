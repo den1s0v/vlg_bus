{
 "cells": [
  {
   "cell_type": "code",
   "execution_count": 1,
   "metadata": {},
   "outputs": [],
   "source": [
    "# bus_analyser.py\n",
    "\n",
    "import csv, re"
   ]
  },
  {
   "cell_type": "code",
   "execution_count": 2,
   "metadata": {},
   "outputs": [],
   "source": [
    "import datetime"
   ]
  },
  {
   "cell_type": "code",
   "execution_count": 163,
   "metadata": {},
   "outputs": [
    {
     "data": {
      "text/plain": [
       "datetime.datetime(1900, 1, 1, 22, 54)"
      ]
     },
     "execution_count": 163,
     "metadata": {},
     "output_type": "execute_result"
    }
   ],
   "source": [
    "datetime.datetime.strptime(\"* 22:54\", \"* %H:%M\")"
   ]
  },
  {
   "cell_type": "code",
   "execution_count": 49,
   "metadata": {},
   "outputs": [],
   "source": [
    "d = datetime.datetime.now()"
   ]
  },
  {
   "cell_type": "code",
   "execution_count": null,
   "metadata": {},
   "outputs": [],
   "source": []
  },
  {
   "cell_type": "code",
   "execution_count": 164,
   "metadata": {},
   "outputs": [],
   "source": [
    "METADATA_COLS = 4\n",
    "\n",
    "def read_bus_csv(filepath, encoding=\"1251\", delimiter=\"\\t\"):\n",
    "    with open(test_filepath, encoding=encoding) as f:\n",
    "        data = list(csv.reader(f, delimiter=delimiter))\n",
    "        \n",
    "    header = data[0]\n",
    "    # вычистить пустые и лишние строки\n",
    "    rows = [row for row in data if not(row == header or \"==/==\" in row)]\n",
    "    \n",
    "    data = []\n",
    "    for row in rows:  # (в прямой хронологии)\n",
    "        d = dict(zip(header[:METADATA_COLS], row[:METADATA_COLS]))\n",
    "        d[\"forecast\"] = row[METADATA_COLS:]\n",
    "        d[\"buses\"] = [i for i,v in enumerate(d[\"forecast\"]) if v.startswith(\"*\")]\n",
    "        data.append(d)\n",
    "\n",
    "    return header, data\n",
    "    "
   ]
  },
  {
   "cell_type": "code",
   "execution_count": 172,
   "metadata": {},
   "outputs": [],
   "source": [
    "test_filepath = \"../saved/65 - na Tulaka.tsv\""
   ]
  },
  {
   "cell_type": "code",
   "execution_count": 173,
   "metadata": {},
   "outputs": [],
   "source": [
    "header, data = read_bus_csv(test_filepath)"
   ]
  },
  {
   "cell_type": "code",
   "execution_count": 174,
   "metadata": {},
   "outputs": [
    {
     "data": {
      "text/plain": [
       "9522"
      ]
     },
     "execution_count": 174,
     "metadata": {},
     "output_type": "execute_result"
    }
   ],
   "source": [
    "len(data)"
   ]
  },
  {
   "cell_type": "code",
   "execution_count": 175,
   "metadata": {
    "scrolled": true
   },
   "outputs": [
    {
     "data": {
      "text/plain": [
       "['Дата', 'День', 'Время', 'Обновл.', 'ЦСМ (А)', 'ул.Танкистов (А)']"
      ]
     },
     "execution_count": 175,
     "metadata": {},
     "output_type": "execute_result"
    }
   ],
   "source": [
    "header[:6]"
   ]
  },
  {
   "cell_type": "code",
   "execution_count": 176,
   "metadata": {},
   "outputs": [],
   "source": [
    "METADATA_COLS = 4"
   ]
  },
  {
   "cell_type": "code",
   "execution_count": 177,
   "metadata": {},
   "outputs": [
    {
     "data": {
      "text/plain": [
       "9"
      ]
     },
     "execution_count": 177,
     "metadata": {},
     "output_type": "execute_result"
    }
   ],
   "source": [
    "desired_stop = 'Дом детского творчества (Б)'\n",
    "desired_index = header.index(desired_stop) - METADATA_COLS\n",
    "desired_index"
   ]
  },
  {
   "cell_type": "code",
   "execution_count": 178,
   "metadata": {
    "scrolled": true
   },
   "outputs": [
    {
     "data": {
      "text/plain": [
       "dict_keys(['Дата', 'День', 'Время', 'Обновл.', 'forecast', 'buses'])"
      ]
     },
     "execution_count": 178,
     "metadata": {},
     "output_type": "execute_result"
    }
   ],
   "source": [
    "data[8].keys()"
   ]
  },
  {
   "cell_type": "code",
   "execution_count": 179,
   "metadata": {
    "collapsed": true
   },
   "outputs": [
    {
     "data": {
      "text/plain": [
       "{'Дата': '2020.08.17',\n",
       " 'День': 'ПН',\n",
       " 'Время': '12:24',\n",
       " 'Обновл.': '14:24:26',\n",
       " 'forecast': ['14:43',\n",
       "  '14:50',\n",
       "  '14:53',\n",
       "  '14:55',\n",
       "  '14:57',\n",
       "  '* 14:25',\n",
       "  '14:26',\n",
       "  '14:27',\n",
       "  '14:29',\n",
       "  '14:30',\n",
       "  '14:32',\n",
       "  '14:33',\n",
       "  '14:35',\n",
       "  '14:37',\n",
       "  '14:38',\n",
       "  '14:40',\n",
       "  '14:41',\n",
       "  '14:42',\n",
       "  '14:43',\n",
       "  '14:46',\n",
       "  '* 14:24',\n",
       "  '14:26',\n",
       "  '14:27',\n",
       "  '14:29',\n",
       "  '14:30',\n",
       "  '14:30',\n",
       "  '14:32',\n",
       "  '14:33',\n",
       "  '14:35',\n",
       "  '14:37',\n",
       "  '14:38'],\n",
       " 'buses': [5, 20]}"
      ]
     },
     "execution_count": 179,
     "metadata": {},
     "output_type": "execute_result"
    }
   ],
   "source": [
    "data[8]"
   ]
  },
  {
   "cell_type": "code",
   "execution_count": 180,
   "metadata": {
    "scrolled": true
   },
   "outputs": [
    {
     "data": {
      "text/plain": [
       "'11:23 (01)'"
      ]
     },
     "execution_count": 180,
     "metadata": {},
     "output_type": "execute_result"
    }
   ],
   "source": [
    "HH_MM_re = re.compile(\"\\d\\d:\\d\\d\")\n",
    "\n",
    "def row2time(time_captured_str, foreacst_str):\n",
    "    date = datetime.datetime.strptime(time_captured_str, \"%H:%M:%S\")\n",
    "    foreacst_str = HH_MM_re.search(foreacst_str).group(0)\n",
    "    forecast = datetime.datetime.strptime(foreacst_str, \"%H:%M\")\n",
    "    if date > forecast and (date - forecast).seconds >= 12 * 3600:\n",
    "        # wrap the end of day\n",
    "        forecast = forecast + datetime.timedelta(days=1)\n",
    "    return forecast\n",
    "    \n",
    "row2time('14:24:26', '* 11:23').strftime(\"%H:%M (%d)\")"
   ]
  },
  {
   "cell_type": "code",
   "execution_count": 182,
   "metadata": {},
   "outputs": [
    {
     "data": {
      "text/plain": [
       "961"
      ]
     },
     "execution_count": 182,
     "metadata": {},
     "output_type": "execute_result"
    }
   ],
   "source": [
    "arrival_times = []  # for desired_stop\n",
    "\n",
    "INF = 1000\n",
    "stops_before = INF\n",
    "stops_after = INF\n",
    "prev_stops_before = stops_before\n",
    "prev_stops_after = stops_after\n",
    "             # len(data)-40\n",
    "for i in range(0, len(data) - 0):\n",
    "    d = data[i]\n",
    "    buses_before = [stop_i for stop_i in d[\"buses\"] if stop_i <= desired_index]\n",
    "    stops_before = abs(max(buses_before) - desired_index)  if buses_before else INF\n",
    "    buses_after = [stop_i for stop_i in d[\"buses\"] if stop_i > desired_index]\n",
    "    stops_after = abs(min(buses_after) - desired_index)  if buses_after else INF\n",
    "    \n",
    "    if (\n",
    "        stops_before > prev_stops_before and prev_stops_before < 5\n",
    "        and\n",
    "        stops_after < prev_stops_after and stops_after < 5\n",
    "    ):\n",
    "        arrival_d = data[i-1]\n",
    "#         arrival_times.append(f\"{arrival_d['Дата']}, {arrival_d['День']}: {arrival_d['forecast'][desired_index]}\")\n",
    "#         arrival_times.append({f\"{arrival_d['Дата']}, {arrival_d['День']}\": \n",
    "#                               row2time(arrival_d['Обновл.'], arrival_d['forecast'][desired_index])})\n",
    "        result_d = arrival_d.copy()\n",
    "        del result_d['buses']\n",
    "        result_d['forecast'] = row2time(arrival_d['Обновл.'], arrival_d['forecast'][desired_index])\n",
    "        arrival_times.append(result_d)\n",
    "#         print(\"*\")\n",
    "#     print(prev_stops_before, stops_before, \";\", prev_stops_after, stops_after)\n",
    "    \n",
    "    prev_stops_before = stops_before\n",
    "    prev_stops_after = stops_after\n",
    "    \n",
    "\n",
    "\n",
    "len(arrival_times)"
   ]
  },
  {
   "cell_type": "code",
   "execution_count": 183,
   "metadata": {
    "scrolled": true
   },
   "outputs": [
    {
     "data": {
      "text/plain": [
       "[{'Дата': '2020.09.03',\n",
       "  'День': 'ЧТ',\n",
       "  'Время': '18:55',\n",
       "  'Обновл.': '18:55:32',\n",
       "  'forecast': datetime.datetime(1900, 1, 1, 19, 6)},\n",
       " {'Дата': '2020.09.03',\n",
       "  'День': 'ЧТ',\n",
       "  'Время': '19:05',\n",
       "  'Обновл.': '19:05:30',\n",
       "  'forecast': datetime.datetime(1900, 1, 1, 19, 6)},\n",
       " {'Дата': '2020.09.03',\n",
       "  'День': 'ЧТ',\n",
       "  'Время': '19:18',\n",
       "  'Обновл.': '19:17:46',\n",
       "  'forecast': datetime.datetime(1900, 1, 1, 19, 18)},\n",
       " {'Дата': '2020.09.03',\n",
       "  'День': 'ЧТ',\n",
       "  'Время': '19:38',\n",
       "  'Обновл.': '19:37:46',\n",
       "  'forecast': datetime.datetime(1900, 1, 1, 19, 37)},\n",
       " {'Дата': '2020.09.03',\n",
       "  'День': 'ЧТ',\n",
       "  'Время': '19:56',\n",
       "  'Обновл.': '19:56:11',\n",
       "  'forecast': datetime.datetime(1900, 1, 1, 19, 57)},\n",
       " {'Дата': '2020.09.03',\n",
       "  'День': 'ЧТ',\n",
       "  'Время': '20:16',\n",
       "  'Обновл.': '20:16:11',\n",
       "  'forecast': datetime.datetime(1900, 1, 1, 20, 17)},\n",
       " {'Дата': '2020.09.03',\n",
       "  'День': 'ЧТ',\n",
       "  'Время': '21:17',\n",
       "  'Обновл.': '21:16:46',\n",
       "  'forecast': datetime.datetime(1900, 1, 1, 21, 17)},\n",
       " {'Дата': '2020.09.03',\n",
       "  'День': 'ЧТ',\n",
       "  'Время': '21:37',\n",
       "  'Обновл.': '21:36:45',\n",
       "  'forecast': datetime.datetime(1900, 1, 1, 21, 37)},\n",
       " {'Дата': '2020.09.03',\n",
       "  'День': 'ЧТ',\n",
       "  'Время': '21:55',\n",
       "  'Обновл.': '21:55:06',\n",
       "  'forecast': datetime.datetime(1900, 1, 1, 21, 57)},\n",
       " {'Дата': '2020.09.03',\n",
       "  'День': 'ЧТ',\n",
       "  'Время': '22:11',\n",
       "  'Обновл.': '22:11:07',\n",
       "  'forecast': datetime.datetime(1900, 1, 1, 22, 12)},\n",
       " {'Дата': '2020.09.03',\n",
       "  'День': 'ЧТ',\n",
       "  'Время': '22:35',\n",
       "  'Обновл.': '22:35:26',\n",
       "  'forecast': datetime.datetime(1900, 1, 1, 22, 37)},\n",
       " {'Дата': '2020.09.03',\n",
       "  'День': 'ЧТ',\n",
       "  'Время': '22:51',\n",
       "  'Обновл.': '22:51:25',\n",
       "  'forecast': datetime.datetime(1900, 1, 1, 22, 53)},\n",
       " {'Дата': '2020.09.03',\n",
       "  'День': 'ЧТ',\n",
       "  'Время': '23:11',\n",
       "  'Обновл.': '23:11:45',\n",
       "  'forecast': datetime.datetime(1900, 1, 1, 23, 14)},\n",
       " {'Дата': '2020.09.03',\n",
       "  'День': 'ЧТ',\n",
       "  'Время': '23:32',\n",
       "  'Обновл.': '23:31:46',\n",
       "  'forecast': datetime.datetime(1900, 1, 1, 23, 33)},\n",
       " {'Дата': '2020.09.04',\n",
       "  'День': 'ПТ',\n",
       "  'Время': '07:22',\n",
       "  'Обновл.': '07:22:07',\n",
       "  'forecast': datetime.datetime(1900, 1, 1, 7, 23)},\n",
       " {'Дата': '2020.09.04',\n",
       "  'День': 'ПТ',\n",
       "  'Время': '07:32',\n",
       "  'Обновл.': '07:32:17',\n",
       "  'forecast': datetime.datetime(1900, 1, 1, 7, 33)},\n",
       " {'Дата': '2020.09.04',\n",
       "  'День': 'ПТ',\n",
       "  'Время': '07:54',\n",
       "  'Обновл.': '07:53:47',\n",
       "  'forecast': datetime.datetime(1900, 1, 1, 7, 54)},\n",
       " {'Дата': '2020.09.04',\n",
       "  'День': 'ПТ',\n",
       "  'Время': '07:58',\n",
       "  'Обновл.': '07:58:14',\n",
       "  'forecast': datetime.datetime(1900, 1, 1, 7, 59)},\n",
       " {'Дата': '2020.09.04',\n",
       "  'День': 'ПТ',\n",
       "  'Время': '08:14',\n",
       "  'Обновл.': '08:14:51',\n",
       "  'forecast': datetime.datetime(1900, 1, 1, 8, 15)},\n",
       " {'Дата': '2020.09.04',\n",
       "  'День': 'ПТ',\n",
       "  'Время': '08:39',\n",
       "  'Обновл.': '08:38:31',\n",
       "  'forecast': datetime.datetime(1900, 1, 1, 8, 39)}]"
      ]
     },
     "execution_count": 183,
     "metadata": {},
     "output_type": "execute_result"
    }
   ],
   "source": [
    "a = -120\n",
    "arrival_times[a:a+20]"
   ]
  },
  {
   "cell_type": "code",
   "execution_count": 184,
   "metadata": {},
   "outputs": [],
   "source": [
    "import matplotlib.pyplot as plt"
   ]
  },
  {
   "cell_type": "code",
   "execution_count": 185,
   "metadata": {},
   "outputs": [],
   "source": [
    "times = [d['forecast'] for d in arrival_times]"
   ]
  },
  {
   "cell_type": "code",
   "execution_count": 186,
   "metadata": {},
   "outputs": [
    {
     "data": {
      "text/plain": [
       "<matplotlib.collections.PathCollection at 0xd72d691d48>"
      ]
     },
     "execution_count": 186,
     "metadata": {},
     "output_type": "execute_result"
    },
    {
     "data": {
      "image/png": "[encoded data removed]",
      "text/plain": [
       "<Figure size 864x576 with 1 Axes>"
      ]
     },
     "metadata": {
      "needs_background": "light"
     },
     "output_type": "display_data"
    }
   ],
   "source": [
    "plt.figure(figsize=(12, 8))\n",
    "axes = plt.gca()\n",
    "axes.set_xlim([datetime.datetime(1900, 1, 1, 6, 0), datetime.datetime(1900, 1, 2, 1, 0)])\n",
    "plt.gcf().autofmt_xdate()  # поворот подписей\n",
    "\n",
    "plt.scatter(times, range(len(times)), marker=\"o\")"
   ]
  },
  {
   "cell_type": "code",
   "execution_count": 187,
   "metadata": {},
   "outputs": [],
   "source": [
    "BeginOfTime = datetime.datetime(1900, 1, 1, 6, 0)\n",
    "\n",
    "def time2int(t) -> \"minutes\":\n",
    "    return (t - BeginOfTime).seconds // 60\n",
    "def int2time(minutes):\n",
    "    return BeginOfTime + datetime.timedelta(minutes=minutes)\n",
    "\n",
    "times_as_int = [time2int(t) for t in times]"
   ]
  },
  {
   "cell_type": "code",
   "execution_count": 209,
   "metadata": {},
   "outputs": [],
   "source": [
    "class NumbersCluster:\n",
    "    def __init__(self, span=10, items=None):\n",
    "        self.span = span\n",
    "        self.items = items or []\n",
    "        \n",
    "    def get_middle(self):\n",
    "        if not self.items:\n",
    "            return None\n",
    "        return(min(self.items) + max(self.items)) / 2\n",
    "        \n",
    "    def get_range(self):\n",
    "        if not self.items:\n",
    "            return 0\n",
    "        return max(self.items) - min(self.items)\n",
    "        \n",
    "    def distance(self, item):\n",
    "        if not self.items:\n",
    "            return 0\n",
    "        return abs(self.get_middle() - item)\n",
    "    \n",
    "    def can_add(self, item):\n",
    "        return self.distance(item) <= self.span\n",
    "    \n",
    "    def add(self, item):\n",
    "        if self.can_add(item):\n",
    "            self.items.append(item)\n",
    "            return True\n",
    "        return False\n",
    "        \n",
    "class ClustersSet:\n",
    "    def __init__(self, сluster_class=NumbersCluster, creation_params=dict(span=10)):\n",
    "        self.сluster_class = сluster_class\n",
    "        self.creation_params = creation_params\n",
    "        self.сlusters = []\n",
    "        \n",
    "    def accept_item(self, item):\n",
    "        if not any(c.can_add(item) for c in self.сlusters):\n",
    "            c = self.сluster_class(**self.creation_params)\n",
    "            c.add(item)\n",
    "            self.сlusters.append(c)\n",
    "        else:\n",
    "            distances = [cl.distance(item) for cl in self.сlusters]\n",
    "            i = distances.index(min(distances))\n",
    "            self.сlusters[i].add(item)\n",
    "        \n",
    "    def accept_items(self, items):\n",
    "        for item in items:\n",
    "            self.accept_item(item)\n",
    "        \n",
    "    \n",
    "        "
   ]
  },
  {
   "cell_type": "code",
   "execution_count": 211,
   "metadata": {},
   "outputs": [
    {
     "data": {
      "text/plain": [
       "58"
      ]
     },
     "execution_count": 211,
     "metadata": {},
     "output_type": "execute_result"
    }
   ],
   "source": [
    "cs = ClustersSet(creation_params=dict(span=10))\n",
    "cs.accept_items(times_as_int)\n",
    "\n",
    "len(cs.сlusters)"
   ]
  },
  {
   "cell_type": "code",
   "execution_count": 213,
   "metadata": {},
   "outputs": [
    {
     "name": "stdout",
     "output_type": "stream",
     "text": [
      "1900-01-01 07:16:30  ===============15                 ±4.5\n",
      "1900-01-01 07:27:30  =======================23         ±5.5\n",
      "1900-01-01 07:39:00  ========================24        ±6\n",
      "1900-01-01 07:50:30  ==================18              ±4.5\n",
      "1900-01-01 08:01:00  ======6                           ±2\n",
      "1900-01-01 08:18:30  ==============================30  ±7.5\n",
      "1900-01-01 08:35:00  ==============14                  ±4\n",
      "1900-01-01 08:47:30  ====================20            ±5.5\n",
      "1900-01-01 08:59:30  ==============================30  ±6.5\n",
      "1900-01-01 09:19:00  ===========================27     ±7\n",
      "1900-01-01 09:29:30  ====================20            ±4.5\n",
      "1900-01-01 09:46:30  ==================18              ±3.5\n",
      "1900-01-01 10:01:30  ======6                           ±0.5\n",
      "1900-01-01 10:17:30  ==============14                  ±2.5\n",
      "1900-01-01 10:37:00  ==============14                  ±4\n",
      "1900-01-01 10:50:30  ===============15                 ±2.5\n",
      "1900-01-01 11:14:30  =================17               ±4.5\n",
      "1900-01-01 11:31:30  ===============15                 ±1.5\n",
      "1900-01-01 11:49:30  ==================18              ±3.5\n",
      "1900-01-01 12:05:30  ================16                ±2.5\n",
      "1900-01-01 12:22:00  =================17               ±4\n",
      "1900-01-01 12:43:00  ===========11                     ±4\n",
      "1900-01-01 13:01:30  ===============15                 ±3.5\n",
      "1900-01-01 13:18:00  =================17               ±2\n",
      "1900-01-01 13:54:00  ================16                ±2\n",
      "1900-01-01 14:12:00  ================16                ±2\n",
      "1900-01-01 14:29:00  =================17               ±3\n",
      "1900-01-01 14:48:00  ===============15                 ±1\n",
      "1900-01-01 15:07:30  ==============14                  ±2.5\n",
      "1900-01-01 15:21:30  ===================19             ±2.5\n",
      "1900-01-01 15:40:00  ===========11                     ±4\n",
      "1900-01-01 15:59:30  =============13                   ±3.5\n",
      "1900-01-01 16:20:00  =============13                   ±2\n",
      "1900-01-01 16:44:00  ===================19             ±4\n",
      "1900-01-01 16:54:00  ================16                ±2\n",
      "1900-01-01 17:05:00  ===============15                 ±4\n",
      "1900-01-01 17:17:00  ================16                ±3\n",
      "1900-01-01 17:31:00  ====================20            ±6\n",
      "1900-01-01 17:47:00  =======================23         ±7\n",
      "1900-01-01 18:03:00  =====================21           ±6\n",
      "1900-01-01 18:15:30  =====================21           ±5.5\n",
      "1900-01-01 18:29:30  =================17               ±5.5\n",
      "1900-01-01 18:42:30  ===============15                 ±3.5\n",
      "1900-01-01 18:54:00  ================16                ±2\n",
      "1900-01-01 19:04:30  ========8                         ±1.5\n",
      "1900-01-01 19:20:30  ======6                           ±2.5\n",
      "1900-01-01 19:34:00  =================17               ±3\n",
      "1900-01-01 19:57:30  =================17               ±6.5\n",
      "1900-01-01 20:18:30  ==================18              ±3.5\n",
      "1900-01-01 20:35:30  ==================18              ±3.5\n",
      "1900-01-01 21:18:00  ==================18              ±3\n",
      "1900-01-01 21:37:00  ==================18              ±2\n",
      "1900-01-01 21:56:30  =====5                            ±2.5\n",
      "1900-01-01 22:14:00  ===============15                 ±4\n",
      "1900-01-01 22:37:00  ================16                ±2\n",
      "1900-01-01 22:53:00  =================17               ±4\n",
      "1900-01-01 23:16:30  ==================18              ±4.5\n",
      "1900-01-01 23:33:30  =================17               ±2.5\n"
     ]
    }
   ],
   "source": [
    "сlusters = cs.сlusters.copy()\n",
    "сlusters.sort(key=lambda cl:cl.get_middle())\n",
    "clusterized = [int2time(cl.get_middle()) for cl in сlusters]\n",
    "counts = [len(cl.items) for cl in сlusters]\n",
    "for cl in сlusters:\n",
    "    L = len(cl.items)\n",
    "    print(f\"{int2time(cl.get_middle())}  {('='*L + str(L)).ljust(33)} ±{str(cl.get_range()/2).replace('.0','')}\")"
   ]
  },
  {
   "cell_type": "code",
   "execution_count": 160,
   "metadata": {},
   "outputs": [
    {
     "data": {
      "text/plain": [
       "<BarContainer object of 111 artists>"
      ]
     },
     "execution_count": 160,
     "metadata": {},
     "output_type": "execute_result"
    },
    {
     "data": {
      "image/png": "[encoded data removed]",
      "text/plain": [
       "<Figure size 864x432 with 1 Axes>"
      ]
     },
     "metadata": {
      "needs_background": "light"
     },
     "output_type": "display_data"
    }
   ],
   "source": [
    "plt.figure(figsize=(12, 6))\n",
    "axes = plt.gca()\n",
    "# axes.set_xlim([datetime.datetime(1900, 1, 1, 6, 0), datetime.datetime(1900, 1, 2, 1, 0)])\n",
    "plt.gcf().autofmt_xdate()  # поворот подписей\n",
    "\n",
    "plt.bar(clusterized, counts, width=0.01, )"
   ]
  },
  {
   "cell_type": "code",
   "execution_count": null,
   "metadata": {},
   "outputs": [],
   "source": []
  }
 ],
 "metadata": {
  "kernelspec": {
   "display_name": "Python 3",
   "language": "python",
   "name": "python3"
  },
  "language_info": {
   "codemirror_mode": {
    "name": "ipython",
    "version": 3
   },
   "file_extension": ".py",
   "mimetype": "text/x-python",
   "name": "python",
   "nbconvert_exporter": "python",
   "pygments_lexer": "ipython3",
   "version": "3.7.6"
  }
 },
 "nbformat": 4,
 "nbformat_minor": 2
}
