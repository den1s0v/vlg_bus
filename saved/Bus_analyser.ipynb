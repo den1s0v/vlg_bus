{
 "cells": [
  {
   "cell_type": "code",
   "execution_count": 1,
   "metadata": {},
   "outputs": [],
   "source": [
    "# bus_analyser.py\n",
    "\n",
    "import csv, re"
   ]
  },
  {
   "cell_type": "code",
   "execution_count": 2,
   "metadata": {},
   "outputs": [],
   "source": [
    "test_filepath = \"../saved/65 - na Tulaka.tsv\""
   ]
  },
  {
   "cell_type": "code",
   "execution_count": 3,
   "metadata": {},
   "outputs": [],
   "source": [
    "with open(test_filepath, encoding=\"1251\") as f:\n",
    "    data = list(csv.reader(f, delimiter=\"\\t\"))"
   ]
  },
  {
   "cell_type": "code",
   "execution_count": 4,
   "metadata": {},
   "outputs": [
    {
     "data": {
      "text/plain": [
       "7655"
      ]
     },
     "execution_count": 4,
     "metadata": {},
     "output_type": "execute_result"
    }
   ],
   "source": [
    "len(data)"
   ]
  },
  {
   "cell_type": "code",
   "execution_count": 5,
   "metadata": {},
   "outputs": [],
   "source": [
    "header = data[0]"
   ]
  },
  {
   "cell_type": "code",
   "execution_count": 6,
   "metadata": {},
   "outputs": [
    {
     "name": "stdout",
     "output_type": "stream",
     "text": [
      "Дата\n",
      "Дата\n",
      "Дата\n",
      "Дата\n",
      "Дата\n",
      "Дата\n",
      "Дата\n",
      "Дата\n",
      "Дата\n",
      "Дата\n"
     ]
    }
   ],
   "source": [
    "for row in data:\n",
    "    if row == header:\n",
    "        print(row[0])"
   ]
  },
  {
   "cell_type": "code",
   "execution_count": 7,
   "metadata": {},
   "outputs": [],
   "source": [
    "# вычистить пустые и лишние строки\n",
    "rows = [row for row in data if not(row == header or \"==/==\" in row)]"
   ]
  },
  {
   "cell_type": "code",
   "execution_count": 8,
   "metadata": {},
   "outputs": [
    {
     "data": {
      "text/plain": [
       "7473"
      ]
     },
     "execution_count": 8,
     "metadata": {},
     "output_type": "execute_result"
    }
   ],
   "source": [
    "len(rows)"
   ]
  },
  {
   "cell_type": "code",
   "execution_count": 9,
   "metadata": {},
   "outputs": [
    {
     "data": {
      "text/plain": [
       "['Дата', 'День', 'Время', 'Обновл.', 'ЦСМ (А)', 'ул.Танкистов (А)']"
      ]
     },
     "execution_count": 9,
     "metadata": {},
     "output_type": "execute_result"
    }
   ],
   "source": [
    "header[:6]"
   ]
  },
  {
   "cell_type": "code",
   "execution_count": 10,
   "metadata": {},
   "outputs": [],
   "source": [
    "METADATA_COLS = 4"
   ]
  },
  {
   "cell_type": "code",
   "execution_count": 11,
   "metadata": {},
   "outputs": [
    {
     "data": {
      "text/plain": [
       "9"
      ]
     },
     "execution_count": 11,
     "metadata": {},
     "output_type": "execute_result"
    }
   ],
   "source": [
    "desired_stop = 'Дом детского творчества (Б)'\n",
    "desired_index = header.index(desired_stop) - METADATA_COLS\n",
    "desired_index"
   ]
  },
  {
   "cell_type": "code",
   "execution_count": 12,
   "metadata": {},
   "outputs": [],
   "source": [
    "data = []\n",
    "for row in rows:  # (в прямой хронологии)\n",
    "    d = dict(zip(header[:METADATA_COLS], row[:METADATA_COLS]))\n",
    "    d[\"forecast\"] = row[METADATA_COLS:]\n",
    "    d[\"buses\"] = [i for i,v in enumerate(d[\"forecast\"]) if v.startswith(\"*\")]\n",
    "    data.append(d)\n",
    "    "
   ]
  },
  {
   "cell_type": "code",
   "execution_count": 13,
   "metadata": {},
   "outputs": [
    {
     "data": {
      "text/plain": [
       "[{'Дата': '2020.08.17',\n",
       "  'День': 'ПН',\n",
       "  'Время': '12:24',\n",
       "  'Обновл.': '14:24:26',\n",
       "  'forecast': ['14:43',\n",
       "   '14:50',\n",
       "   '14:53',\n",
       "   '14:55',\n",
       "   '14:57',\n",
       "   '* 14:25',\n",
       "   '14:26',\n",
       "   '14:27',\n",
       "   '14:29',\n",
       "   '14:30',\n",
       "   '14:32',\n",
       "   '14:33',\n",
       "   '14:35',\n",
       "   '14:37',\n",
       "   '14:38',\n",
       "   '14:40',\n",
       "   '14:41',\n",
       "   '14:42',\n",
       "   '14:43',\n",
       "   '14:46',\n",
       "   '* 14:24',\n",
       "   '14:26',\n",
       "   '14:27',\n",
       "   '14:29',\n",
       "   '14:30',\n",
       "   '14:30',\n",
       "   '14:32',\n",
       "   '14:33',\n",
       "   '14:35',\n",
       "   '14:37',\n",
       "   '14:38'],\n",
       "  'buses': [5, 20]},\n",
       " {'Дата': '2020.08.17',\n",
       "  'День': 'ПН',\n",
       "  'Время': '12:29',\n",
       "  'Обновл.': '14:29:13',\n",
       "  'forecast': ['14:43',\n",
       "   '14:50',\n",
       "   '14:53',\n",
       "   '14:55',\n",
       "   '14:57',\n",
       "   '14:58',\n",
       "   '15:00',\n",
       "   '15:01',\n",
       "   '* 14:29',\n",
       "   '14:30',\n",
       "   '14:32',\n",
       "   '14:33',\n",
       "   '14:35',\n",
       "   '14:37',\n",
       "   '14:38',\n",
       "   '14:40',\n",
       "   '14:41',\n",
       "   '14:42',\n",
       "   '14:43',\n",
       "   '14:46',\n",
       "   '14:46',\n",
       "   '14:48',\n",
       "   '14:49',\n",
       "   '14:51',\n",
       "   '* 14:30',\n",
       "   '14:31',\n",
       "   '14:32',\n",
       "   '14:33',\n",
       "   '14:35',\n",
       "   '14:37',\n",
       "   '14:38'],\n",
       "  'buses': [8, 24]}]"
      ]
     },
     "execution_count": 13,
     "metadata": {},
     "output_type": "execute_result"
    }
   ],
   "source": [
    "data[8:10]"
   ]
  },
  {
   "cell_type": "code",
   "execution_count": 52,
   "metadata": {},
   "outputs": [
    {
     "data": {
      "text/plain": [
       "753"
      ]
     },
     "execution_count": 52,
     "metadata": {},
     "output_type": "execute_result"
    }
   ],
   "source": [
    "arrival_times = []  # for desired_stop\n",
    "\n",
    "INF = 1000\n",
    "stops_before = INF\n",
    "stops_after = INF\n",
    "prev_stops_before = stops_before\n",
    "prev_stops_after = stops_after\n",
    "             # len(data)-40\n",
    "for i in range(0, len(data) - 0):\n",
    "    d = data[i]\n",
    "    buses_before = [stop_i for stop_i in d[\"buses\"] if stop_i <= desired_index]\n",
    "    stops_before = abs(max(buses_before) - desired_index)  if buses_before else INF\n",
    "    buses_after = [stop_i for stop_i in d[\"buses\"] if stop_i > desired_index]\n",
    "    stops_after = abs(min(buses_after) - desired_index)  if buses_after else INF\n",
    "    \n",
    "    if (\n",
    "        stops_before > prev_stops_before # and stops_before > 5\n",
    "        and\n",
    "        stops_after < prev_stops_after and stops_after < 5\n",
    "    ):\n",
    "        arrival_d = data[i-1]\n",
    "        arrival_times.append(f\"{arrival_d['Дата']}, {arrival_d['День']}: {arrival_d['forecast'][desired_index]}\")\n",
    "#         print(\"*\")\n",
    "#     print(prev_stops_before, stops_before, \";\", prev_stops_after, stops_after)\n",
    "    \n",
    "    prev_stops_before = stops_before\n",
    "    prev_stops_after = stops_after\n",
    "    \n",
    "\n",
    "\n",
    "len(arrival_times)"
   ]
  },
  {
   "cell_type": "code",
   "execution_count": 53,
   "metadata": {},
   "outputs": [
    {
     "data": {
      "text/plain": [
       "(1000, 1000, 1000, 1000)"
      ]
     },
     "execution_count": 53,
     "metadata": {},
     "output_type": "execute_result"
    }
   ],
   "source": [
    "prev_stops_before, stops_before, \\\n",
    "prev_stops_after, stops_after\n"
   ]
  },
  {
   "cell_type": "code",
   "execution_count": 54,
   "metadata": {
    "scrolled": true
   },
   "outputs": [
    {
     "data": {
      "text/plain": [
       "['2020.09.01, ВТ: * 17:29 (-363 м.)',\n",
       " '2020.09.01, ВТ: 17:44',\n",
       " '2020.09.01, ВТ: * 18:04 (-549 м.)',\n",
       " '2020.09.01, ВТ: * 18:16 (-436 м.)',\n",
       " '2020.09.01, ВТ: 18:29',\n",
       " '2020.09.01, ВТ: * 18:46 (-350 м.)',\n",
       " '2020.09.01, ВТ: 18:56',\n",
       " '2020.09.01, ВТ: * 19:21 (-443 м.)',\n",
       " '2020.09.01, ВТ: * 19:34 (-398 м.)',\n",
       " '2020.09.01, ВТ: 19:56',\n",
       " '2020.09.01, ВТ: 20:18',\n",
       " '2020.09.01, ВТ: * 20:34 (-135 м.)',\n",
       " '2020.09.01, ВТ: 21:21',\n",
       " '2020.09.01, ВТ: 21:37',\n",
       " '2020.09.01, ВТ: 21:55',\n",
       " '2020.09.01, ВТ: 22:15',\n",
       " '2020.09.01, ВТ: 22:35',\n",
       " '2020.09.01, ВТ: * 22:54 (-283 м.)',\n",
       " '2020.09.01, ВТ: * 23:21 (-432 м.)',\n",
       " '2020.09.01, ВТ: * 23:33 (-392 м.)']"
      ]
     },
     "execution_count": 54,
     "metadata": {},
     "output_type": "execute_result"
    }
   ],
   "source": [
    "arrival_times[-20:]"
   ]
  },
  {
   "cell_type": "code",
   "execution_count": null,
   "metadata": {},
   "outputs": [],
   "source": [
    " '2020.09.01, ВТ: * 22:54 (-283 м.)',\n",
    " '2020.09.01, ВТ: * 23:21 (-432 м.)',\n",
    " '2020.09.01, ВТ: * 23:33 (-392 м.)',\n",
    " '2020.09.01, ВТ: 23:44',\n",
    " '2020.09.02, СР: 00:16',\n",
    " '2020.09.02, СР: 00:20',\n",
    " '2020.09.02, СР: 01:03']"
   ]
  }
 ],
 "metadata": {
  "kernelspec": {
   "display_name": "Python 3",
   "language": "python",
   "name": "python3"
  },
  "language_info": {
   "codemirror_mode": {
    "name": "ipython",
    "version": 3
   },
   "file_extension": ".py",
   "mimetype": "text/x-python",
   "name": "python",
   "nbconvert_exporter": "python",
   "pygments_lexer": "ipython3",
   "version": "3.7.3"
  }
 },
 "nbformat": 4,
 "nbformat_minor": 2
}
